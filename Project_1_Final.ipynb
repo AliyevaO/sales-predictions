{
  "nbformat": 4,
  "nbformat_minor": 0,
  "metadata": {
    "colab": {
      "name": "Project 1 - Final.ipynb",
      "provenance": [],
      "collapsed_sections": [],
      "authorship_tag": "ABX9TyNA6GzhhNEj1Ad+BQX7NGQd",
      "include_colab_link": true
    },
    "kernelspec": {
      "name": "python3",
      "display_name": "Python 3"
    },
    "language_info": {
      "name": "python"
    }
  },
  "cells": [
    {
      "cell_type": "markdown",
      "metadata": {
        "id": "view-in-github",
        "colab_type": "text"
      },
      "source": [
        "<a href=\"https://colab.research.google.com/github/AliyevaO/sales_predictions/blob/main/Project_1_Final.ipynb\" target=\"_parent\"><img src=\"https://colab.research.google.com/assets/colab-badge.svg\" alt=\"Open In Colab\"/></a>"
      ]
    },
    {
      "cell_type": "markdown",
      "source": [
        "\n",
        "##Sales predictions Project\n",
        "* Oleksandra Aliyeva \n",
        "* 17.02.2022\n",
        "\n",
        "\n"
      ],
      "metadata": {
        "id": "N_lB58ZehlVP"
      }
    },
    {
      "cell_type": "markdown",
      "source": [
        "The project is a sales prediction for food items sold at various stores. \n",
        "\n",
        "Data Dictionary for this dataset:\n",
        "\n",
        "* **Item_Identifier**\t- Unique product ID\n",
        "* **Item_Weight**\t- Weight of product\n",
        "* **Item_Fat_Content** - Whether the product is low fat or regular\n",
        "* **Item_Visibility** -\tThe percentage of total display area of all products in a store allocated to the particular product\n",
        "* **Item_Type**\t- The category to which the product belongs\n",
        "* **Item_MRP** -\tMaximum Retail Price (list price) of the product\n",
        "* **Outlet_Identifier**\t- Unique store ID\n",
        "* **Outlet_Establishment_Year**\t- The year in which store was established\n",
        "* **Outlet_Size**\t- The size of the store in terms of ground area covered\n",
        "* **Outlet_Location_Type** -\tThe type of area in which the store is located\n",
        "* **Outlet_Type** -\tWhether the outlet is a grocery store or some sort of supermarket\n",
        "* **Item_Outlet_Sales**\t- Sales of the product in the particular store. This is the target variable to be predicted."
      ],
      "metadata": {
        "id": "cjYx9elLdUEQ"
      }
    },
    {
      "cell_type": "code",
      "execution_count": 178,
      "metadata": {
        "id": "vJBfucD7uAU-",
        "colab": {
          "base_uri": "https://localhost:8080/"
        },
        "outputId": "17fe0a01-b5e3-4c13-9149-62742784bd63"
      },
      "outputs": [
        {
          "output_type": "stream",
          "name": "stdout",
          "text": [
            "Drive already mounted at /content/drive; to attempt to forcibly remount, call drive.mount(\"/content/drive\", force_remount=True).\n"
          ]
        }
      ],
      "source": [
        "from google.colab import drive\n",
        "drive.mount('/content/drive')"
      ]
    },
    {
      "cell_type": "code",
      "source": [
        "import matplotlib.pyplot as plt\n",
        "import pandas as pd\n",
        "import numpy as np\n",
        "import seaborn as sns"
      ],
      "metadata": {
        "id": "chAp-MuVRyxD"
      },
      "execution_count": 179,
      "outputs": []
    },
    {
      "cell_type": "code",
      "source": [
        "filename = '/content/drive/MyDrive/Bootcamp/01 Week_ Python/sales_predictions.csv'"
      ],
      "metadata": {
        "id": "HsYpmqieulj1"
      },
      "execution_count": 180,
      "outputs": []
    },
    {
      "cell_type": "code",
      "source": [
        "#check a head of a DataFrame\n",
        "sales_predictions = pd.read_csv(filename)\n",
        "sales_predictions.head()"
      ],
      "metadata": {
        "colab": {
          "base_uri": "https://localhost:8080/",
          "height": 353
        },
        "id": "SG8wlZo4uLZN",
        "outputId": "f42351f2-7821-4d54-a6c3-c3f16bdce106"
      },
      "execution_count": 181,
      "outputs": [
        {
          "output_type": "execute_result",
          "data": {
            "text/html": [
              "\n",
              "  <div id=\"df-90a69e2c-7bca-455d-bd35-61cf6cbf69e6\">\n",
              "    <div class=\"colab-df-container\">\n",
              "      <div>\n",
              "<style scoped>\n",
              "    .dataframe tbody tr th:only-of-type {\n",
              "        vertical-align: middle;\n",
              "    }\n",
              "\n",
              "    .dataframe tbody tr th {\n",
              "        vertical-align: top;\n",
              "    }\n",
              "\n",
              "    .dataframe thead th {\n",
              "        text-align: right;\n",
              "    }\n",
              "</style>\n",
              "<table border=\"1\" class=\"dataframe\">\n",
              "  <thead>\n",
              "    <tr style=\"text-align: right;\">\n",
              "      <th></th>\n",
              "      <th>Item_Identifier</th>\n",
              "      <th>Item_Weight</th>\n",
              "      <th>Item_Fat_Content</th>\n",
              "      <th>Item_Visibility</th>\n",
              "      <th>Item_Type</th>\n",
              "      <th>Item_MRP</th>\n",
              "      <th>Outlet_Identifier</th>\n",
              "      <th>Outlet_Establishment_Year</th>\n",
              "      <th>Outlet_Size</th>\n",
              "      <th>Outlet_Location_Type</th>\n",
              "      <th>Outlet_Type</th>\n",
              "      <th>Item_Outlet_Sales</th>\n",
              "    </tr>\n",
              "  </thead>\n",
              "  <tbody>\n",
              "    <tr>\n",
              "      <th>0</th>\n",
              "      <td>FDA15</td>\n",
              "      <td>9.30</td>\n",
              "      <td>Low Fat</td>\n",
              "      <td>0.016047</td>\n",
              "      <td>Dairy</td>\n",
              "      <td>249.8092</td>\n",
              "      <td>OUT049</td>\n",
              "      <td>1999</td>\n",
              "      <td>Medium</td>\n",
              "      <td>Tier 1</td>\n",
              "      <td>Supermarket Type1</td>\n",
              "      <td>3735.1380</td>\n",
              "    </tr>\n",
              "    <tr>\n",
              "      <th>1</th>\n",
              "      <td>DRC01</td>\n",
              "      <td>5.92</td>\n",
              "      <td>Regular</td>\n",
              "      <td>0.019278</td>\n",
              "      <td>Soft Drinks</td>\n",
              "      <td>48.2692</td>\n",
              "      <td>OUT018</td>\n",
              "      <td>2009</td>\n",
              "      <td>Medium</td>\n",
              "      <td>Tier 3</td>\n",
              "      <td>Supermarket Type2</td>\n",
              "      <td>443.4228</td>\n",
              "    </tr>\n",
              "    <tr>\n",
              "      <th>2</th>\n",
              "      <td>FDN15</td>\n",
              "      <td>17.50</td>\n",
              "      <td>Low Fat</td>\n",
              "      <td>0.016760</td>\n",
              "      <td>Meat</td>\n",
              "      <td>141.6180</td>\n",
              "      <td>OUT049</td>\n",
              "      <td>1999</td>\n",
              "      <td>Medium</td>\n",
              "      <td>Tier 1</td>\n",
              "      <td>Supermarket Type1</td>\n",
              "      <td>2097.2700</td>\n",
              "    </tr>\n",
              "    <tr>\n",
              "      <th>3</th>\n",
              "      <td>FDX07</td>\n",
              "      <td>19.20</td>\n",
              "      <td>Regular</td>\n",
              "      <td>0.000000</td>\n",
              "      <td>Fruits and Vegetables</td>\n",
              "      <td>182.0950</td>\n",
              "      <td>OUT010</td>\n",
              "      <td>1998</td>\n",
              "      <td>NaN</td>\n",
              "      <td>Tier 3</td>\n",
              "      <td>Grocery Store</td>\n",
              "      <td>732.3800</td>\n",
              "    </tr>\n",
              "    <tr>\n",
              "      <th>4</th>\n",
              "      <td>NCD19</td>\n",
              "      <td>8.93</td>\n",
              "      <td>Low Fat</td>\n",
              "      <td>0.000000</td>\n",
              "      <td>Household</td>\n",
              "      <td>53.8614</td>\n",
              "      <td>OUT013</td>\n",
              "      <td>1987</td>\n",
              "      <td>High</td>\n",
              "      <td>Tier 3</td>\n",
              "      <td>Supermarket Type1</td>\n",
              "      <td>994.7052</td>\n",
              "    </tr>\n",
              "  </tbody>\n",
              "</table>\n",
              "</div>\n",
              "      <button class=\"colab-df-convert\" onclick=\"convertToInteractive('df-90a69e2c-7bca-455d-bd35-61cf6cbf69e6')\"\n",
              "              title=\"Convert this dataframe to an interactive table.\"\n",
              "              style=\"display:none;\">\n",
              "        \n",
              "  <svg xmlns=\"http://www.w3.org/2000/svg\" height=\"24px\"viewBox=\"0 0 24 24\"\n",
              "       width=\"24px\">\n",
              "    <path d=\"M0 0h24v24H0V0z\" fill=\"none\"/>\n",
              "    <path d=\"M18.56 5.44l.94 2.06.94-2.06 2.06-.94-2.06-.94-.94-2.06-.94 2.06-2.06.94zm-11 1L8.5 8.5l.94-2.06 2.06-.94-2.06-.94L8.5 2.5l-.94 2.06-2.06.94zm10 10l.94 2.06.94-2.06 2.06-.94-2.06-.94-.94-2.06-.94 2.06-2.06.94z\"/><path d=\"M17.41 7.96l-1.37-1.37c-.4-.4-.92-.59-1.43-.59-.52 0-1.04.2-1.43.59L10.3 9.45l-7.72 7.72c-.78.78-.78 2.05 0 2.83L4 21.41c.39.39.9.59 1.41.59.51 0 1.02-.2 1.41-.59l7.78-7.78 2.81-2.81c.8-.78.8-2.07 0-2.86zM5.41 20L4 18.59l7.72-7.72 1.47 1.35L5.41 20z\"/>\n",
              "  </svg>\n",
              "      </button>\n",
              "      \n",
              "  <style>\n",
              "    .colab-df-container {\n",
              "      display:flex;\n",
              "      flex-wrap:wrap;\n",
              "      gap: 12px;\n",
              "    }\n",
              "\n",
              "    .colab-df-convert {\n",
              "      background-color: #E8F0FE;\n",
              "      border: none;\n",
              "      border-radius: 50%;\n",
              "      cursor: pointer;\n",
              "      display: none;\n",
              "      fill: #1967D2;\n",
              "      height: 32px;\n",
              "      padding: 0 0 0 0;\n",
              "      width: 32px;\n",
              "    }\n",
              "\n",
              "    .colab-df-convert:hover {\n",
              "      background-color: #E2EBFA;\n",
              "      box-shadow: 0px 1px 2px rgba(60, 64, 67, 0.3), 0px 1px 3px 1px rgba(60, 64, 67, 0.15);\n",
              "      fill: #174EA6;\n",
              "    }\n",
              "\n",
              "    [theme=dark] .colab-df-convert {\n",
              "      background-color: #3B4455;\n",
              "      fill: #D2E3FC;\n",
              "    }\n",
              "\n",
              "    [theme=dark] .colab-df-convert:hover {\n",
              "      background-color: #434B5C;\n",
              "      box-shadow: 0px 1px 3px 1px rgba(0, 0, 0, 0.15);\n",
              "      filter: drop-shadow(0px 1px 2px rgba(0, 0, 0, 0.3));\n",
              "      fill: #FFFFFF;\n",
              "    }\n",
              "  </style>\n",
              "\n",
              "      <script>\n",
              "        const buttonEl =\n",
              "          document.querySelector('#df-90a69e2c-7bca-455d-bd35-61cf6cbf69e6 button.colab-df-convert');\n",
              "        buttonEl.style.display =\n",
              "          google.colab.kernel.accessAllowed ? 'block' : 'none';\n",
              "\n",
              "        async function convertToInteractive(key) {\n",
              "          const element = document.querySelector('#df-90a69e2c-7bca-455d-bd35-61cf6cbf69e6');\n",
              "          const dataTable =\n",
              "            await google.colab.kernel.invokeFunction('convertToInteractive',\n",
              "                                                     [key], {});\n",
              "          if (!dataTable) return;\n",
              "\n",
              "          const docLinkHtml = 'Like what you see? Visit the ' +\n",
              "            '<a target=\"_blank\" href=https://colab.research.google.com/notebooks/data_table.ipynb>data table notebook</a>'\n",
              "            + ' to learn more about interactive tables.';\n",
              "          element.innerHTML = '';\n",
              "          dataTable['output_type'] = 'display_data';\n",
              "          await google.colab.output.renderOutput(dataTable, element);\n",
              "          const docLink = document.createElement('div');\n",
              "          docLink.innerHTML = docLinkHtml;\n",
              "          element.appendChild(docLink);\n",
              "        }\n",
              "      </script>\n",
              "    </div>\n",
              "  </div>\n",
              "  "
            ],
            "text/plain": [
              "  Item_Identifier  Item_Weight Item_Fat_Content  Item_Visibility  \\\n",
              "0           FDA15         9.30          Low Fat         0.016047   \n",
              "1           DRC01         5.92          Regular         0.019278   \n",
              "2           FDN15        17.50          Low Fat         0.016760   \n",
              "3           FDX07        19.20          Regular         0.000000   \n",
              "4           NCD19         8.93          Low Fat         0.000000   \n",
              "\n",
              "               Item_Type  Item_MRP Outlet_Identifier  \\\n",
              "0                  Dairy  249.8092            OUT049   \n",
              "1            Soft Drinks   48.2692            OUT018   \n",
              "2                   Meat  141.6180            OUT049   \n",
              "3  Fruits and Vegetables  182.0950            OUT010   \n",
              "4              Household   53.8614            OUT013   \n",
              "\n",
              "   Outlet_Establishment_Year Outlet_Size Outlet_Location_Type  \\\n",
              "0                       1999      Medium               Tier 1   \n",
              "1                       2009      Medium               Tier 3   \n",
              "2                       1999      Medium               Tier 1   \n",
              "3                       1998         NaN               Tier 3   \n",
              "4                       1987        High               Tier 3   \n",
              "\n",
              "         Outlet_Type  Item_Outlet_Sales  \n",
              "0  Supermarket Type1          3735.1380  \n",
              "1  Supermarket Type2           443.4228  \n",
              "2  Supermarket Type1          2097.2700  \n",
              "3      Grocery Store           732.3800  \n",
              "4  Supermarket Type1           994.7052  "
            ]
          },
          "metadata": {},
          "execution_count": 181
        }
      ]
    },
    {
      "cell_type": "code",
      "source": [
        "#check how many rows and columns are in a DataFrame\n",
        "sales_predictions.info()"
      ],
      "metadata": {
        "id": "FlofE_7YuLkA",
        "colab": {
          "base_uri": "https://localhost:8080/"
        },
        "outputId": "394b8cbb-5bb8-4384-e587-07872f74ab90"
      },
      "execution_count": 182,
      "outputs": [
        {
          "output_type": "stream",
          "name": "stdout",
          "text": [
            "<class 'pandas.core.frame.DataFrame'>\n",
            "RangeIndex: 8523 entries, 0 to 8522\n",
            "Data columns (total 12 columns):\n",
            " #   Column                     Non-Null Count  Dtype  \n",
            "---  ------                     --------------  -----  \n",
            " 0   Item_Identifier            8523 non-null   object \n",
            " 1   Item_Weight                7060 non-null   float64\n",
            " 2   Item_Fat_Content           8523 non-null   object \n",
            " 3   Item_Visibility            8523 non-null   float64\n",
            " 4   Item_Type                  8523 non-null   object \n",
            " 5   Item_MRP                   8523 non-null   float64\n",
            " 6   Outlet_Identifier          8523 non-null   object \n",
            " 7   Outlet_Establishment_Year  8523 non-null   int64  \n",
            " 8   Outlet_Size                6113 non-null   object \n",
            " 9   Outlet_Location_Type       8523 non-null   object \n",
            " 10  Outlet_Type                8523 non-null   object \n",
            " 11  Item_Outlet_Sales          8523 non-null   float64\n",
            "dtypes: float64(4), int64(1), object(7)\n",
            "memory usage: 799.2+ KB\n"
          ]
        }
      ]
    },
    {
      "cell_type": "code",
      "source": [
        "sales_predictions.shape"
      ],
      "metadata": {
        "colab": {
          "base_uri": "https://localhost:8080/"
        },
        "id": "9CA9xtRYfiOK",
        "outputId": "860a49ae-35ff-40d2-e88b-28cca8e932dd"
      },
      "execution_count": 183,
      "outputs": [
        {
          "output_type": "execute_result",
          "data": {
            "text/plain": [
              "(8523, 12)"
            ]
          },
          "metadata": {},
          "execution_count": 183
        }
      ]
    },
    {
      "cell_type": "markdown",
      "source": [
        "##Cleaning Data"
      ],
      "metadata": {
        "id": "DrP57tN53d6F"
      }
    },
    {
      "cell_type": "code",
      "source": [
        "#check for duplicates\n",
        "sales_predictions.duplicated().sum()"
      ],
      "metadata": {
        "colab": {
          "base_uri": "https://localhost:8080/"
        },
        "id": "AeBioYN8RvXO",
        "outputId": "e4ed02ca-cd0c-40de-f16a-cd6a9cdada72"
      },
      "execution_count": 184,
      "outputs": [
        {
          "output_type": "execute_result",
          "data": {
            "text/plain": [
              "0"
            ]
          },
          "metadata": {},
          "execution_count": 184
        }
      ]
    },
    {
      "cell_type": "code",
      "source": [
        "#check for missing values and columns in which we have it\n",
        "sales_predictions.isna().sum()"
      ],
      "metadata": {
        "colab": {
          "base_uri": "https://localhost:8080/"
        },
        "id": "6gvXRZv1X4m2",
        "outputId": "f9dab3e5-cada-496b-f442-4ad500741db3"
      },
      "execution_count": 185,
      "outputs": [
        {
          "output_type": "execute_result",
          "data": {
            "text/plain": [
              "Item_Identifier                 0\n",
              "Item_Weight                  1463\n",
              "Item_Fat_Content                0\n",
              "Item_Visibility                 0\n",
              "Item_Type                       0\n",
              "Item_MRP                        0\n",
              "Outlet_Identifier               0\n",
              "Outlet_Establishment_Year       0\n",
              "Outlet_Size                  2410\n",
              "Outlet_Location_Type            0\n",
              "Outlet_Type                     0\n",
              "Item_Outlet_Sales               0\n",
              "dtype: int64"
            ]
          },
          "metadata": {},
          "execution_count": 185
        }
      ]
    },
    {
      "cell_type": "code",
      "source": [
        "#fill missing rows in Column 'Outlet_Size' with 'Missing', best way in my opinion to do it without loosing much data.\n",
        "outlet_size_missing = sales_predictions['Outlet_Size'].fillna('Missing')"
      ],
      "metadata": {
        "id": "WqGAvF3WZ7Lo"
      },
      "execution_count": 186,
      "outputs": []
    },
    {
      "cell_type": "code",
      "source": [
        "sales_predictions['Outlet_Size'].fillna(value=outlet_size_missing, inplace=True)"
      ],
      "metadata": {
        "id": "rVa1bBmpin30"
      },
      "execution_count": 187,
      "outputs": []
    },
    {
      "cell_type": "code",
      "source": [
        "#fill missing rows in Column 'Item_Weight' using already known weight of the same item from another rows.\n",
        "sales_predictions['Item_Weight'] = sales_predictions.groupby('Item_Identifier')['Item_Weight'].transform(lambda x: x.fillna(np.mean(x)))"
      ],
      "metadata": {
        "id": "asOmII3IgFzu"
      },
      "execution_count": 188,
      "outputs": []
    },
    {
      "cell_type": "code",
      "source": [
        "sales_predictions[sales_predictions.Item_Weight.isnull()]"
      ],
      "metadata": {
        "colab": {
          "base_uri": "https://localhost:8080/",
          "height": 305
        },
        "id": "o0XRU9AAzKNP",
        "outputId": "091d71c9-9f3b-46e6-bf3f-74b8ec9c04cf"
      },
      "execution_count": 189,
      "outputs": [
        {
          "output_type": "execute_result",
          "data": {
            "text/html": [
              "\n",
              "  <div id=\"df-25a4f6eb-a66d-41f6-8511-fef0b47565bc\">\n",
              "    <div class=\"colab-df-container\">\n",
              "      <div>\n",
              "<style scoped>\n",
              "    .dataframe tbody tr th:only-of-type {\n",
              "        vertical-align: middle;\n",
              "    }\n",
              "\n",
              "    .dataframe tbody tr th {\n",
              "        vertical-align: top;\n",
              "    }\n",
              "\n",
              "    .dataframe thead th {\n",
              "        text-align: right;\n",
              "    }\n",
              "</style>\n",
              "<table border=\"1\" class=\"dataframe\">\n",
              "  <thead>\n",
              "    <tr style=\"text-align: right;\">\n",
              "      <th></th>\n",
              "      <th>Item_Identifier</th>\n",
              "      <th>Item_Weight</th>\n",
              "      <th>Item_Fat_Content</th>\n",
              "      <th>Item_Visibility</th>\n",
              "      <th>Item_Type</th>\n",
              "      <th>Item_MRP</th>\n",
              "      <th>Outlet_Identifier</th>\n",
              "      <th>Outlet_Establishment_Year</th>\n",
              "      <th>Outlet_Size</th>\n",
              "      <th>Outlet_Location_Type</th>\n",
              "      <th>Outlet_Type</th>\n",
              "      <th>Item_Outlet_Sales</th>\n",
              "    </tr>\n",
              "  </thead>\n",
              "  <tbody>\n",
              "    <tr>\n",
              "      <th>927</th>\n",
              "      <td>FDN52</td>\n",
              "      <td>NaN</td>\n",
              "      <td>Regular</td>\n",
              "      <td>0.130933</td>\n",
              "      <td>Frozen Foods</td>\n",
              "      <td>86.9198</td>\n",
              "      <td>OUT027</td>\n",
              "      <td>1985</td>\n",
              "      <td>Medium</td>\n",
              "      <td>Tier 3</td>\n",
              "      <td>Supermarket Type3</td>\n",
              "      <td>1569.9564</td>\n",
              "    </tr>\n",
              "    <tr>\n",
              "      <th>1922</th>\n",
              "      <td>FDK57</td>\n",
              "      <td>NaN</td>\n",
              "      <td>Low Fat</td>\n",
              "      <td>0.079904</td>\n",
              "      <td>Snack Foods</td>\n",
              "      <td>120.0440</td>\n",
              "      <td>OUT027</td>\n",
              "      <td>1985</td>\n",
              "      <td>Medium</td>\n",
              "      <td>Tier 3</td>\n",
              "      <td>Supermarket Type3</td>\n",
              "      <td>4434.2280</td>\n",
              "    </tr>\n",
              "    <tr>\n",
              "      <th>4187</th>\n",
              "      <td>FDE52</td>\n",
              "      <td>NaN</td>\n",
              "      <td>Regular</td>\n",
              "      <td>0.029742</td>\n",
              "      <td>Dairy</td>\n",
              "      <td>88.9514</td>\n",
              "      <td>OUT027</td>\n",
              "      <td>1985</td>\n",
              "      <td>Medium</td>\n",
              "      <td>Tier 3</td>\n",
              "      <td>Supermarket Type3</td>\n",
              "      <td>3453.5046</td>\n",
              "    </tr>\n",
              "    <tr>\n",
              "      <th>5022</th>\n",
              "      <td>FDQ60</td>\n",
              "      <td>NaN</td>\n",
              "      <td>Regular</td>\n",
              "      <td>0.191501</td>\n",
              "      <td>Baking Goods</td>\n",
              "      <td>121.2098</td>\n",
              "      <td>OUT019</td>\n",
              "      <td>1985</td>\n",
              "      <td>Small</td>\n",
              "      <td>Tier 1</td>\n",
              "      <td>Grocery Store</td>\n",
              "      <td>120.5098</td>\n",
              "    </tr>\n",
              "  </tbody>\n",
              "</table>\n",
              "</div>\n",
              "      <button class=\"colab-df-convert\" onclick=\"convertToInteractive('df-25a4f6eb-a66d-41f6-8511-fef0b47565bc')\"\n",
              "              title=\"Convert this dataframe to an interactive table.\"\n",
              "              style=\"display:none;\">\n",
              "        \n",
              "  <svg xmlns=\"http://www.w3.org/2000/svg\" height=\"24px\"viewBox=\"0 0 24 24\"\n",
              "       width=\"24px\">\n",
              "    <path d=\"M0 0h24v24H0V0z\" fill=\"none\"/>\n",
              "    <path d=\"M18.56 5.44l.94 2.06.94-2.06 2.06-.94-2.06-.94-.94-2.06-.94 2.06-2.06.94zm-11 1L8.5 8.5l.94-2.06 2.06-.94-2.06-.94L8.5 2.5l-.94 2.06-2.06.94zm10 10l.94 2.06.94-2.06 2.06-.94-2.06-.94-.94-2.06-.94 2.06-2.06.94z\"/><path d=\"M17.41 7.96l-1.37-1.37c-.4-.4-.92-.59-1.43-.59-.52 0-1.04.2-1.43.59L10.3 9.45l-7.72 7.72c-.78.78-.78 2.05 0 2.83L4 21.41c.39.39.9.59 1.41.59.51 0 1.02-.2 1.41-.59l7.78-7.78 2.81-2.81c.8-.78.8-2.07 0-2.86zM5.41 20L4 18.59l7.72-7.72 1.47 1.35L5.41 20z\"/>\n",
              "  </svg>\n",
              "      </button>\n",
              "      \n",
              "  <style>\n",
              "    .colab-df-container {\n",
              "      display:flex;\n",
              "      flex-wrap:wrap;\n",
              "      gap: 12px;\n",
              "    }\n",
              "\n",
              "    .colab-df-convert {\n",
              "      background-color: #E8F0FE;\n",
              "      border: none;\n",
              "      border-radius: 50%;\n",
              "      cursor: pointer;\n",
              "      display: none;\n",
              "      fill: #1967D2;\n",
              "      height: 32px;\n",
              "      padding: 0 0 0 0;\n",
              "      width: 32px;\n",
              "    }\n",
              "\n",
              "    .colab-df-convert:hover {\n",
              "      background-color: #E2EBFA;\n",
              "      box-shadow: 0px 1px 2px rgba(60, 64, 67, 0.3), 0px 1px 3px 1px rgba(60, 64, 67, 0.15);\n",
              "      fill: #174EA6;\n",
              "    }\n",
              "\n",
              "    [theme=dark] .colab-df-convert {\n",
              "      background-color: #3B4455;\n",
              "      fill: #D2E3FC;\n",
              "    }\n",
              "\n",
              "    [theme=dark] .colab-df-convert:hover {\n",
              "      background-color: #434B5C;\n",
              "      box-shadow: 0px 1px 3px 1px rgba(0, 0, 0, 0.15);\n",
              "      filter: drop-shadow(0px 1px 2px rgba(0, 0, 0, 0.3));\n",
              "      fill: #FFFFFF;\n",
              "    }\n",
              "  </style>\n",
              "\n",
              "      <script>\n",
              "        const buttonEl =\n",
              "          document.querySelector('#df-25a4f6eb-a66d-41f6-8511-fef0b47565bc button.colab-df-convert');\n",
              "        buttonEl.style.display =\n",
              "          google.colab.kernel.accessAllowed ? 'block' : 'none';\n",
              "\n",
              "        async function convertToInteractive(key) {\n",
              "          const element = document.querySelector('#df-25a4f6eb-a66d-41f6-8511-fef0b47565bc');\n",
              "          const dataTable =\n",
              "            await google.colab.kernel.invokeFunction('convertToInteractive',\n",
              "                                                     [key], {});\n",
              "          if (!dataTable) return;\n",
              "\n",
              "          const docLinkHtml = 'Like what you see? Visit the ' +\n",
              "            '<a target=\"_blank\" href=https://colab.research.google.com/notebooks/data_table.ipynb>data table notebook</a>'\n",
              "            + ' to learn more about interactive tables.';\n",
              "          element.innerHTML = '';\n",
              "          dataTable['output_type'] = 'display_data';\n",
              "          await google.colab.output.renderOutput(dataTable, element);\n",
              "          const docLink = document.createElement('div');\n",
              "          docLink.innerHTML = docLinkHtml;\n",
              "          element.appendChild(docLink);\n",
              "        }\n",
              "      </script>\n",
              "    </div>\n",
              "  </div>\n",
              "  "
            ],
            "text/plain": [
              "     Item_Identifier  Item_Weight Item_Fat_Content  Item_Visibility  \\\n",
              "927            FDN52          NaN          Regular         0.130933   \n",
              "1922           FDK57          NaN          Low Fat         0.079904   \n",
              "4187           FDE52          NaN          Regular         0.029742   \n",
              "5022           FDQ60          NaN          Regular         0.191501   \n",
              "\n",
              "         Item_Type  Item_MRP Outlet_Identifier  Outlet_Establishment_Year  \\\n",
              "927   Frozen Foods   86.9198            OUT027                       1985   \n",
              "1922   Snack Foods  120.0440            OUT027                       1985   \n",
              "4187         Dairy   88.9514            OUT027                       1985   \n",
              "5022  Baking Goods  121.2098            OUT019                       1985   \n",
              "\n",
              "     Outlet_Size Outlet_Location_Type        Outlet_Type  Item_Outlet_Sales  \n",
              "927       Medium               Tier 3  Supermarket Type3          1569.9564  \n",
              "1922      Medium               Tier 3  Supermarket Type3          4434.2280  \n",
              "4187      Medium               Tier 3  Supermarket Type3          3453.5046  \n",
              "5022       Small               Tier 1      Grocery Store           120.5098  "
            ]
          },
          "metadata": {},
          "execution_count": 189
        }
      ]
    },
    {
      "cell_type": "code",
      "source": [
        "#still have 4 missing values, I fill them with mean value of the column 'Item_Weight'\n",
        "mean_value = sales_predictions['Item_Weight'].mean()\n",
        "sales_predictions['Item_Weight'].fillna(value=mean_value, inplace=True)"
      ],
      "metadata": {
        "id": "nZetp3POFMUE"
      },
      "execution_count": 190,
      "outputs": []
    },
    {
      "cell_type": "code",
      "source": [
        "#checking if there is any missing data left\n",
        "sales_predictions.isna().sum()"
      ],
      "metadata": {
        "colab": {
          "base_uri": "https://localhost:8080/"
        },
        "id": "irMm-DGkhgGo",
        "outputId": "1f7168d7-0a34-4fed-f05c-9cf86432014c"
      },
      "execution_count": 191,
      "outputs": [
        {
          "output_type": "execute_result",
          "data": {
            "text/plain": [
              "Item_Identifier              0\n",
              "Item_Weight                  0\n",
              "Item_Fat_Content             0\n",
              "Item_Visibility              0\n",
              "Item_Type                    0\n",
              "Item_MRP                     0\n",
              "Outlet_Identifier            0\n",
              "Outlet_Establishment_Year    0\n",
              "Outlet_Size                  0\n",
              "Outlet_Location_Type         0\n",
              "Outlet_Type                  0\n",
              "Item_Outlet_Sales            0\n",
              "dtype: int64"
            ]
          },
          "metadata": {},
          "execution_count": 191
        }
      ]
    },
    {
      "cell_type": "code",
      "source": [
        "#check the types of data\n",
        "sales_predictions.dtypes"
      ],
      "metadata": {
        "colab": {
          "base_uri": "https://localhost:8080/"
        },
        "id": "nSzArpHAjem0",
        "outputId": "d302f4c8-a801-4001-d85a-7a5a8889874b"
      },
      "execution_count": 192,
      "outputs": [
        {
          "output_type": "execute_result",
          "data": {
            "text/plain": [
              "Item_Identifier               object\n",
              "Item_Weight                  float64\n",
              "Item_Fat_Content              object\n",
              "Item_Visibility              float64\n",
              "Item_Type                     object\n",
              "Item_MRP                     float64\n",
              "Outlet_Identifier             object\n",
              "Outlet_Establishment_Year      int64\n",
              "Outlet_Size                   object\n",
              "Outlet_Location_Type          object\n",
              "Outlet_Type                   object\n",
              "Item_Outlet_Sales            float64\n",
              "dtype: object"
            ]
          },
          "metadata": {},
          "execution_count": 192
        }
      ]
    },
    {
      "cell_type": "code",
      "source": [
        "#loop through data types to get only ones with object type\n",
        "data_types = sales_predictions.dtypes\n",
        "obj_cols = data_types[ data_types=='object'].index\n",
        "obj_cols"
      ],
      "metadata": {
        "colab": {
          "base_uri": "https://localhost:8080/"
        },
        "id": "5YWUMDJlc50c",
        "outputId": "7da98eb0-32e4-49ed-d573-d29253efba77"
      },
      "execution_count": 193,
      "outputs": [
        {
          "output_type": "execute_result",
          "data": {
            "text/plain": [
              "Index(['Item_Identifier', 'Item_Fat_Content', 'Item_Type', 'Outlet_Identifier',\n",
              "       'Outlet_Size', 'Outlet_Location_Type', 'Outlet_Type'],\n",
              "      dtype='object')"
            ]
          },
          "metadata": {},
          "execution_count": 193
        }
      ]
    },
    {
      "cell_type": "code",
      "source": [
        "#look for inconsistent categories\n",
        "for col in obj_cols:\n",
        "    print(f'- {col}:')\n",
        "    print(sales_predictions[col].value_counts(dropna=False))\n",
        "    print(\"\\n************\")"
      ],
      "metadata": {
        "colab": {
          "base_uri": "https://localhost:8080/"
        },
        "id": "IO8S-j6tc5oP",
        "outputId": "9cbb5837-0fe6-4877-835d-7e6bbd4ffb28"
      },
      "execution_count": 194,
      "outputs": [
        {
          "output_type": "stream",
          "name": "stdout",
          "text": [
            "- Item_Identifier:\n",
            "FDW13    10\n",
            "FDG33    10\n",
            "NCY18     9\n",
            "FDD38     9\n",
            "DRE49     9\n",
            "         ..\n",
            "FDY43     1\n",
            "FDQ60     1\n",
            "FDO33     1\n",
            "DRF48     1\n",
            "FDC23     1\n",
            "Name: Item_Identifier, Length: 1559, dtype: int64\n",
            "\n",
            "************\n",
            "- Item_Fat_Content:\n",
            "Low Fat    5089\n",
            "Regular    2889\n",
            "LF          316\n",
            "reg         117\n",
            "low fat     112\n",
            "Name: Item_Fat_Content, dtype: int64\n",
            "\n",
            "************\n",
            "- Item_Type:\n",
            "Fruits and Vegetables    1232\n",
            "Snack Foods              1200\n",
            "Household                 910\n",
            "Frozen Foods              856\n",
            "Dairy                     682\n",
            "Canned                    649\n",
            "Baking Goods              648\n",
            "Health and Hygiene        520\n",
            "Soft Drinks               445\n",
            "Meat                      425\n",
            "Breads                    251\n",
            "Hard Drinks               214\n",
            "Others                    169\n",
            "Starchy Foods             148\n",
            "Breakfast                 110\n",
            "Seafood                    64\n",
            "Name: Item_Type, dtype: int64\n",
            "\n",
            "************\n",
            "- Outlet_Identifier:\n",
            "OUT027    935\n",
            "OUT013    932\n",
            "OUT049    930\n",
            "OUT046    930\n",
            "OUT035    930\n",
            "OUT045    929\n",
            "OUT018    928\n",
            "OUT017    926\n",
            "OUT010    555\n",
            "OUT019    528\n",
            "Name: Outlet_Identifier, dtype: int64\n",
            "\n",
            "************\n",
            "- Outlet_Size:\n",
            "Medium     2793\n",
            "Missing    2410\n",
            "Small      2388\n",
            "High        932\n",
            "Name: Outlet_Size, dtype: int64\n",
            "\n",
            "************\n",
            "- Outlet_Location_Type:\n",
            "Tier 3    3350\n",
            "Tier 2    2785\n",
            "Tier 1    2388\n",
            "Name: Outlet_Location_Type, dtype: int64\n",
            "\n",
            "************\n",
            "- Outlet_Type:\n",
            "Supermarket Type1    5577\n",
            "Grocery Store        1083\n",
            "Supermarket Type3     935\n",
            "Supermarket Type2     928\n",
            "Name: Outlet_Type, dtype: int64\n",
            "\n",
            "************\n"
          ]
        }
      ]
    },
    {
      "cell_type": "code",
      "source": [
        "#rename inconsistent categories\n",
        "repl_map ={'low fat':'Low Fat','LF':'Low Fat','reg':'Regular'}\n",
        "sales_predictions['Item_Fat_Content'] = sales_predictions['Item_Fat_Content'].replace(repl_map)\n",
        "sales_predictions['Item_Fat_Content'].value_counts()"
      ],
      "metadata": {
        "colab": {
          "base_uri": "https://localhost:8080/"
        },
        "id": "2JdPUg2gle8P",
        "outputId": "02e5f7f5-5aee-4a08-ea95-69c31206f190"
      },
      "execution_count": 195,
      "outputs": [
        {
          "output_type": "execute_result",
          "data": {
            "text/plain": [
              "Low Fat    5517\n",
              "Regular    3006\n",
              "Name: Item_Fat_Content, dtype: int64"
            ]
          },
          "metadata": {},
          "execution_count": 195
        }
      ]
    },
    {
      "cell_type": "markdown",
      "source": [
        "## Data Analysis and Visualization\n"
      ],
      "metadata": {
        "id": "l20dYV-64sVY"
      }
    },
    {
      "cell_type": "code",
      "source": [
        "#obtain the summary statistics of each numerical columns \n",
        "sales_predictions.describe()"
      ],
      "metadata": {
        "colab": {
          "base_uri": "https://localhost:8080/",
          "height": 297
        },
        "id": "QIK9_rPjWgu8",
        "outputId": "afdd8a18-79ae-4fa3-fa81-56b71fa06276"
      },
      "execution_count": 196,
      "outputs": [
        {
          "output_type": "execute_result",
          "data": {
            "text/html": [
              "\n",
              "  <div id=\"df-66938106-41d8-4b08-b6bf-12cfbb314c29\">\n",
              "    <div class=\"colab-df-container\">\n",
              "      <div>\n",
              "<style scoped>\n",
              "    .dataframe tbody tr th:only-of-type {\n",
              "        vertical-align: middle;\n",
              "    }\n",
              "\n",
              "    .dataframe tbody tr th {\n",
              "        vertical-align: top;\n",
              "    }\n",
              "\n",
              "    .dataframe thead th {\n",
              "        text-align: right;\n",
              "    }\n",
              "</style>\n",
              "<table border=\"1\" class=\"dataframe\">\n",
              "  <thead>\n",
              "    <tr style=\"text-align: right;\">\n",
              "      <th></th>\n",
              "      <th>Item_Weight</th>\n",
              "      <th>Item_Visibility</th>\n",
              "      <th>Item_MRP</th>\n",
              "      <th>Outlet_Establishment_Year</th>\n",
              "      <th>Item_Outlet_Sales</th>\n",
              "    </tr>\n",
              "  </thead>\n",
              "  <tbody>\n",
              "    <tr>\n",
              "      <th>count</th>\n",
              "      <td>8523.000000</td>\n",
              "      <td>8523.000000</td>\n",
              "      <td>8523.000000</td>\n",
              "      <td>8523.000000</td>\n",
              "      <td>8523.000000</td>\n",
              "    </tr>\n",
              "    <tr>\n",
              "      <th>mean</th>\n",
              "      <td>12.875420</td>\n",
              "      <td>0.066132</td>\n",
              "      <td>140.992782</td>\n",
              "      <td>1997.831867</td>\n",
              "      <td>2181.288914</td>\n",
              "    </tr>\n",
              "    <tr>\n",
              "      <th>std</th>\n",
              "      <td>4.645008</td>\n",
              "      <td>0.051598</td>\n",
              "      <td>62.275067</td>\n",
              "      <td>8.371760</td>\n",
              "      <td>1706.499616</td>\n",
              "    </tr>\n",
              "    <tr>\n",
              "      <th>min</th>\n",
              "      <td>4.555000</td>\n",
              "      <td>0.000000</td>\n",
              "      <td>31.290000</td>\n",
              "      <td>1985.000000</td>\n",
              "      <td>33.290000</td>\n",
              "    </tr>\n",
              "    <tr>\n",
              "      <th>25%</th>\n",
              "      <td>8.785000</td>\n",
              "      <td>0.026989</td>\n",
              "      <td>93.826500</td>\n",
              "      <td>1987.000000</td>\n",
              "      <td>834.247400</td>\n",
              "    </tr>\n",
              "    <tr>\n",
              "      <th>50%</th>\n",
              "      <td>12.650000</td>\n",
              "      <td>0.053931</td>\n",
              "      <td>143.012800</td>\n",
              "      <td>1999.000000</td>\n",
              "      <td>1794.331000</td>\n",
              "    </tr>\n",
              "    <tr>\n",
              "      <th>75%</th>\n",
              "      <td>16.850000</td>\n",
              "      <td>0.094585</td>\n",
              "      <td>185.643700</td>\n",
              "      <td>2004.000000</td>\n",
              "      <td>3101.296400</td>\n",
              "    </tr>\n",
              "    <tr>\n",
              "      <th>max</th>\n",
              "      <td>21.350000</td>\n",
              "      <td>0.328391</td>\n",
              "      <td>266.888400</td>\n",
              "      <td>2009.000000</td>\n",
              "      <td>13086.964800</td>\n",
              "    </tr>\n",
              "  </tbody>\n",
              "</table>\n",
              "</div>\n",
              "      <button class=\"colab-df-convert\" onclick=\"convertToInteractive('df-66938106-41d8-4b08-b6bf-12cfbb314c29')\"\n",
              "              title=\"Convert this dataframe to an interactive table.\"\n",
              "              style=\"display:none;\">\n",
              "        \n",
              "  <svg xmlns=\"http://www.w3.org/2000/svg\" height=\"24px\"viewBox=\"0 0 24 24\"\n",
              "       width=\"24px\">\n",
              "    <path d=\"M0 0h24v24H0V0z\" fill=\"none\"/>\n",
              "    <path d=\"M18.56 5.44l.94 2.06.94-2.06 2.06-.94-2.06-.94-.94-2.06-.94 2.06-2.06.94zm-11 1L8.5 8.5l.94-2.06 2.06-.94-2.06-.94L8.5 2.5l-.94 2.06-2.06.94zm10 10l.94 2.06.94-2.06 2.06-.94-2.06-.94-.94-2.06-.94 2.06-2.06.94z\"/><path d=\"M17.41 7.96l-1.37-1.37c-.4-.4-.92-.59-1.43-.59-.52 0-1.04.2-1.43.59L10.3 9.45l-7.72 7.72c-.78.78-.78 2.05 0 2.83L4 21.41c.39.39.9.59 1.41.59.51 0 1.02-.2 1.41-.59l7.78-7.78 2.81-2.81c.8-.78.8-2.07 0-2.86zM5.41 20L4 18.59l7.72-7.72 1.47 1.35L5.41 20z\"/>\n",
              "  </svg>\n",
              "      </button>\n",
              "      \n",
              "  <style>\n",
              "    .colab-df-container {\n",
              "      display:flex;\n",
              "      flex-wrap:wrap;\n",
              "      gap: 12px;\n",
              "    }\n",
              "\n",
              "    .colab-df-convert {\n",
              "      background-color: #E8F0FE;\n",
              "      border: none;\n",
              "      border-radius: 50%;\n",
              "      cursor: pointer;\n",
              "      display: none;\n",
              "      fill: #1967D2;\n",
              "      height: 32px;\n",
              "      padding: 0 0 0 0;\n",
              "      width: 32px;\n",
              "    }\n",
              "\n",
              "    .colab-df-convert:hover {\n",
              "      background-color: #E2EBFA;\n",
              "      box-shadow: 0px 1px 2px rgba(60, 64, 67, 0.3), 0px 1px 3px 1px rgba(60, 64, 67, 0.15);\n",
              "      fill: #174EA6;\n",
              "    }\n",
              "\n",
              "    [theme=dark] .colab-df-convert {\n",
              "      background-color: #3B4455;\n",
              "      fill: #D2E3FC;\n",
              "    }\n",
              "\n",
              "    [theme=dark] .colab-df-convert:hover {\n",
              "      background-color: #434B5C;\n",
              "      box-shadow: 0px 1px 3px 1px rgba(0, 0, 0, 0.15);\n",
              "      filter: drop-shadow(0px 1px 2px rgba(0, 0, 0, 0.3));\n",
              "      fill: #FFFFFF;\n",
              "    }\n",
              "  </style>\n",
              "\n",
              "      <script>\n",
              "        const buttonEl =\n",
              "          document.querySelector('#df-66938106-41d8-4b08-b6bf-12cfbb314c29 button.colab-df-convert');\n",
              "        buttonEl.style.display =\n",
              "          google.colab.kernel.accessAllowed ? 'block' : 'none';\n",
              "\n",
              "        async function convertToInteractive(key) {\n",
              "          const element = document.querySelector('#df-66938106-41d8-4b08-b6bf-12cfbb314c29');\n",
              "          const dataTable =\n",
              "            await google.colab.kernel.invokeFunction('convertToInteractive',\n",
              "                                                     [key], {});\n",
              "          if (!dataTable) return;\n",
              "\n",
              "          const docLinkHtml = 'Like what you see? Visit the ' +\n",
              "            '<a target=\"_blank\" href=https://colab.research.google.com/notebooks/data_table.ipynb>data table notebook</a>'\n",
              "            + ' to learn more about interactive tables.';\n",
              "          element.innerHTML = '';\n",
              "          dataTable['output_type'] = 'display_data';\n",
              "          await google.colab.output.renderOutput(dataTable, element);\n",
              "          const docLink = document.createElement('div');\n",
              "          docLink.innerHTML = docLinkHtml;\n",
              "          element.appendChild(docLink);\n",
              "        }\n",
              "      </script>\n",
              "    </div>\n",
              "  </div>\n",
              "  "
            ],
            "text/plain": [
              "       Item_Weight  Item_Visibility     Item_MRP  Outlet_Establishment_Year  \\\n",
              "count  8523.000000      8523.000000  8523.000000                8523.000000   \n",
              "mean     12.875420         0.066132   140.992782                1997.831867   \n",
              "std       4.645008         0.051598    62.275067                   8.371760   \n",
              "min       4.555000         0.000000    31.290000                1985.000000   \n",
              "25%       8.785000         0.026989    93.826500                1987.000000   \n",
              "50%      12.650000         0.053931   143.012800                1999.000000   \n",
              "75%      16.850000         0.094585   185.643700                2004.000000   \n",
              "max      21.350000         0.328391   266.888400                2009.000000   \n",
              "\n",
              "       Item_Outlet_Sales  \n",
              "count        8523.000000  \n",
              "mean         2181.288914  \n",
              "std          1706.499616  \n",
              "min            33.290000  \n",
              "25%           834.247400  \n",
              "50%          1794.331000  \n",
              "75%          3101.296400  \n",
              "max         13086.964800  "
            ]
          },
          "metadata": {},
          "execution_count": 196
        }
      ]
    },
    {
      "cell_type": "code",
      "source": [
        "#check for correlation in data\n",
        "corr = sales_predictions.corr()"
      ],
      "metadata": {
        "id": "bwcjzmFwWm90"
      },
      "execution_count": 197,
      "outputs": []
    },
    {
      "cell_type": "code",
      "source": [
        "#use heatmap to see a correlation between features\n",
        "sns.set(rc={\"figure.figsize\":(10, 6)})\n",
        "sns.heatmap(corr, cmap = 'Blues', annot = True);"
      ],
      "metadata": {
        "id": "NpdQrBCt01kj",
        "colab": {
          "base_uri": "https://localhost:8080/",
          "height": 522
        },
        "outputId": "7f034ffb-e185-4866-86da-c08175c2029d"
      },
      "execution_count": 198,
      "outputs": [
        {
          "output_type": "display_data",
          "data": {
            "image/png": "[encoded data removed]",
            "text/plain": [
              "<Figure size 720x432 with 2 Axes>"
            ]
          },
          "metadata": {}
        }
      ]
    },
    {
      "cell_type": "markdown",
      "source": [
        "* In heatmap we did not identify relationships between variables in our dataset. Except two columns that have a moderate correlations, they are Maximum Retail Price of the product (Item_MRP) and Sales of the product in the particular store(Item_Outlet_Sales). "
      ],
      "metadata": {
        "id": "7gt-ExDF409I"
      }
    },
    {
      "cell_type": "code",
      "source": [
        "#plot sales of the product in the particular store\n",
        "plt.style.use('seaborn')\n",
        "sns.set(rc={\"figure.figsize\":(12, 8)})\n",
        "sales_predictions['Item_Outlet_Sales'].hist(bins = 50, edgecolor='black')\n",
        "plt.xticks(rotation = 45)\n",
        "plt.ticklabel_format(useOffset=False, style='plain')\n",
        "plt.ylabel('Number of Items');\n",
        "plt.title('Sales distribution');"
      ],
      "metadata": {
        "id": "eynqe52RimlC",
        "colab": {
          "base_uri": "https://localhost:8080/",
          "height": 527
        },
        "outputId": "72ae7bde-76e0-4f62-ad68-d5f85e671c0b"
      },
      "execution_count": 199,
      "outputs": [
        {
          "output_type": "display_data",
          "data": {
            "image/png": "[encoded data removed]",
            "text/plain": [
              "<Figure size 864x576 with 1 Axes>"
            ]
          },
          "metadata": {}
        }
      ]
    },
    {
      "cell_type": "code",
      "source": [
        "#plot a distribution of the percentage of total display area of all products\n",
        "sales_predictions['Item_Visibility'].hist(bins = 30, edgecolor='black', figsize=(12,6))\n",
        "plt.xticks(rotation = 45)\n",
        "plt.ticklabel_format(useOffset=False, style='plain')\n",
        "plt.xlabel('Weight')\n",
        "plt.ylabel('Number of Items');"
      ],
      "metadata": {
        "colab": {
          "base_uri": "https://localhost:8080/",
          "height": 411
        },
        "id": "cDy147mqkvLR",
        "outputId": "8f7f7a28-2a7f-4c70-b28f-a5f4842b6a75"
      },
      "execution_count": 200,
      "outputs": [
        {
          "output_type": "display_data",
          "data": {
            "image/png": "[encoded data removed]",
            "text/plain": [
              "<Figure size 864x432 with 1 Axes>"
            ]
          },
          "metadata": {}
        }
      ]
    },
    {
      "cell_type": "code",
      "source": [
        "#plot a boxplot to see the difference in item sales depending on outlet type\n",
        "sns.set(rc={\"figure.figsize\":(12, 8)})\n",
        "sns.boxplot(x='Outlet_Type', y='Item_Outlet_Sales', data = sales_predictions);"
      ],
      "metadata": {
        "colab": {
          "base_uri": "https://localhost:8080/",
          "height": 506
        },
        "id": "4O0zm5yEUIo9",
        "outputId": "3366dd41-ac0c-4723-da89-8a1aee8fe83a"
      },
      "execution_count": 201,
      "outputs": [
        {
          "output_type": "display_data",
          "data": {
            "image/png": "[encoded data removed]",
            "text/plain": [
              "<Figure size 864x576 with 1 Axes>"
            ]
          },
          "metadata": {}
        }
      ]
    },
    {
      "cell_type": "code",
      "source": [
        "#plot a boxplot to see the difference in item sales depending on whether the product is low fat or regular\n",
        "sns.boxplot(x='Item_Fat_Content', y='Item_Outlet_Sales', data = sales_predictions);"
      ],
      "metadata": {
        "colab": {
          "base_uri": "https://localhost:8080/",
          "height": 506
        },
        "id": "oGjfNvB5IA-E",
        "outputId": "15b874f9-ae8e-4b71-a2fe-c325bbf9b3e7"
      },
      "execution_count": 202,
      "outputs": [
        {
          "output_type": "display_data",
          "data": {
            "image/png": "[encoded data removed]",
            "text/plain": [
              "<Figure size 864x576 with 1 Axes>"
            ]
          },
          "metadata": {}
        }
      ]
    },
    {
      "cell_type": "code",
      "source": [
        "#plot a boxplot to see the difference in item sales depending on the category to which the product belongs\n",
        "sns.set(rc={\"figure.figsize\":(12, 5)})\n",
        "ax = sns.boxplot(x='Item_Type', y='Item_Outlet_Sales', data = sales_predictions,)\n",
        "ax.set_xticklabels(ax.get_xticklabels(),rotation=45,ha='right');"
      ],
      "metadata": {
        "id": "IZNNiXAFlWt4",
        "colab": {
          "base_uri": "https://localhost:8080/",
          "height": 424
        },
        "outputId": "653dca07-befa-4bda-bcf6-cb89f9cda43f"
      },
      "execution_count": 203,
      "outputs": [
        {
          "output_type": "display_data",
          "data": {
            "image/png": "[encoded data removed]",
            "text/plain": [
              "<Figure size 864x360 with 1 Axes>"
            ]
          },
          "metadata": {}
        }
      ]
    },
    {
      "cell_type": "markdown",
      "source": [
        "## Visualization for stake holders"
      ],
      "metadata": {
        "id": "iaLYq43e3ObV"
      }
    },
    {
      "cell_type": "code",
      "source": [
        "#used a code from https://www.statology.org/seaborn-barplot-show-values/, to show values on barplot\n",
        "def show_values(axs, orient=\"v\", space=.01):\n",
        "    def _single(ax):\n",
        "        if orient == \"v\":\n",
        "            for p in ax.patches:\n",
        "                _x = p.get_x() + p.get_width() / 2\n",
        "                _y = p.get_y() + p.get_height() + (p.get_height()*0.01)\n",
        "                value = '{:.1f}'.format(p.get_height())\n",
        "                ax.text(_x, _y, value, ha=\"center\") \n",
        "        elif orient == \"h\":\n",
        "            for p in ax.patches:\n",
        "                _x = p.get_x() + p.get_width() + float(space)\n",
        "                _y = p.get_y() + p.get_height() - (p.get_height()*0.5)\n",
        "                value = '{:.1f}'.format(p.get_width())\n",
        "                ax.text(_x, _y, value, ha=\"left\")\n",
        "\n",
        "    if isinstance(axs, np.ndarray):\n",
        "        for idx, ax in np.ndenumerate(axs):\n",
        "            _single(ax)\n",
        "    else:\n",
        "        _single(axs)"
      ],
      "metadata": {
        "id": "E-T2t00VQ2KQ"
      },
      "execution_count": 204,
      "outputs": []
    },
    {
      "cell_type": "markdown",
      "source": [
        "* **Is there any connection beetween Sales of products and Type of the Outlet?**"
      ],
      "metadata": {
        "id": "ohgB0pwityve"
      }
    },
    {
      "cell_type": "code",
      "source": [
        "sns.set(rc={\"figure.figsize\":(10,6)})\n",
        "ax = sns.barplot(x='Outlet_Type', y='Item_Outlet_Sales', data = sales_predictions)\n",
        "ax.set_xlabel('Type of Outlet', fontsize=15)\n",
        "ax.set_ylabel('Sales of the Product', fontsize=15)\n",
        "ax.set_title('Sales of Products in Different Type of Outlets', fontsize=19)\n",
        "show_values(ax)\n",
        "plt.savefig('Sales of Products in Different Type of Outlets.png', dpi = 300);"
      ],
      "metadata": {
        "colab": {
          "base_uri": "https://localhost:8080/",
          "height": 420
        },
        "id": "fGObSzna3N90",
        "outputId": "a4e3d737-ee84-4164-bc15-cc21d3c5db78"
      },
      "execution_count": 205,
      "outputs": [
        {
          "output_type": "display_data",
          "data": {
            "image/png": "[encoded data removed]",
            "text/plain": [
              "<Figure size 720x432 with 1 Axes>"
            ]
          },
          "metadata": {}
        }
      ]
    },
    {
      "cell_type": "markdown",
      "source": [
        "* We can see that the highest sales has Supermarket Type 3."
      ],
      "metadata": {
        "id": "xSrnfmkn5bRQ"
      }
    },
    {
      "cell_type": "markdown",
      "source": [
        "**Is there any connection between Outlet Type, Outlet Location and Sales?**"
      ],
      "metadata": {
        "id": "3pBWQulnV-pi"
      }
    },
    {
      "cell_type": "code",
      "source": [
        "sns.set(rc={\"figure.figsize\":(10,6)})\n",
        "ax = sns.barplot(x='Outlet_Type', y='Item_Outlet_Sales', data = sales_predictions, hue='Outlet_Location_Type')\n",
        "ax.set_xlabel('Type of Outlet', fontsize=15)\n",
        "ax.set_ylabel('Sales of the Product', fontsize=15)\n",
        "ax.set_title('Sales of Products in Different Type of Outlets', fontsize=19)\n",
        "ax.legend(title='Outlet Location Type');"
      ],
      "metadata": {
        "colab": {
          "base_uri": "https://localhost:8080/",
          "height": 420
        },
        "id": "pDOeZlcvN3yW",
        "outputId": "e5f368ad-6090-4a36-cd14-b125eddde623"
      },
      "execution_count": 206,
      "outputs": [
        {
          "output_type": "display_data",
          "data": {
            "image/png": "[encoded data removed]",
            "text/plain": [
              "<Figure size 720x432 with 1 Axes>"
            ]
          },
          "metadata": {}
        }
      ]
    },
    {
      "cell_type": "markdown",
      "source": [
        "* Yes, we can see that Supermarket Type 3 Located in Tier 3 has the highest sales."
      ],
      "metadata": {
        "id": "0DRsx8V_WzjD"
      }
    },
    {
      "cell_type": "code",
      "source": [
        "# check number of stores in different locations\n",
        "sales_predictions['Outlet_Location_Type'].value_counts()"
      ],
      "metadata": {
        "colab": {
          "base_uri": "https://localhost:8080/"
        },
        "id": "Y_HiOUhgUFqW",
        "outputId": "55497879-9466-41d3-81e8-4cbb7dec1c8c"
      },
      "execution_count": 207,
      "outputs": [
        {
          "output_type": "execute_result",
          "data": {
            "text/plain": [
              "Tier 3    3350\n",
              "Tier 2    2785\n",
              "Tier 1    2388\n",
              "Name: Outlet_Location_Type, dtype: int64"
            ]
          },
          "metadata": {},
          "execution_count": 207
        }
      ]
    },
    {
      "cell_type": "code",
      "source": [
        "# check number of stores of different types\n",
        "sales_predictions['Outlet_Type'].value_counts()"
      ],
      "metadata": {
        "colab": {
          "base_uri": "https://localhost:8080/"
        },
        "id": "hehDqJax7lix",
        "outputId": "6b8b8d87-4337-48eb-9e74-74f6da06fe3e"
      },
      "execution_count": 208,
      "outputs": [
        {
          "output_type": "execute_result",
          "data": {
            "text/plain": [
              "Supermarket Type1    5577\n",
              "Grocery Store        1083\n",
              "Supermarket Type3     935\n",
              "Supermarket Type2     928\n",
              "Name: Outlet_Type, dtype: int64"
            ]
          },
          "metadata": {},
          "execution_count": 208
        }
      ]
    },
    {
      "cell_type": "code",
      "source": [
        "# check number of stores with different identifiers\n",
        "sales_predictions['Outlet_Identifier'].value_counts()"
      ],
      "metadata": {
        "colab": {
          "base_uri": "https://localhost:8080/"
        },
        "id": "N0K10KkzLMex",
        "outputId": "5a4938b2-fa2e-4530-acbb-69314367bf3d"
      },
      "execution_count": 209,
      "outputs": [
        {
          "output_type": "execute_result",
          "data": {
            "text/plain": [
              "OUT027    935\n",
              "OUT013    932\n",
              "OUT049    930\n",
              "OUT046    930\n",
              "OUT035    930\n",
              "OUT045    929\n",
              "OUT018    928\n",
              "OUT017    926\n",
              "OUT010    555\n",
              "OUT019    528\n",
              "Name: Outlet_Identifier, dtype: int64"
            ]
          },
          "metadata": {},
          "execution_count": 209
        }
      ]
    },
    {
      "cell_type": "code",
      "source": [
        "#using groupby to sort values in columns Item_Type and Item_Visibility and find mean values\n",
        "visibility_by_type = sales_predictions.groupby('Item_Type')['Item_Visibility'].mean().sort_values(ascending=False)"
      ],
      "metadata": {
        "id": "YFfg4IpLRGKf"
      },
      "execution_count": 210,
      "outputs": []
    },
    {
      "cell_type": "markdown",
      "source": [
        "* **What relationship is between Product Category and Product Visibility?**\n",
        "\n",
        "\n"
      ],
      "metadata": {
        "id": "QnnJ2IdLhZEj"
      }
    },
    {
      "cell_type": "code",
      "source": [
        "sns.set_theme(style=\"whitegrid\")\n",
        "\n",
        "fig, axes = plt.subplots(figsize=(12, 6))\n",
        "\n",
        "sns.set_color_codes(\"pastel\")\n",
        "sns.barplot(y=visibility_by_type.index, x=visibility_by_type.values, palette='coolwarm')\n",
        "plt.xlabel('Product Visibility in %',fontsize=14)\n",
        "plt.ylabel('Product Category',fontsize=14)\n",
        "plt.title('Relationship Between Product Category and Product Visibility',fontsize=18)\n",
        "fig.tight_layout()\n",
        "plt.savefig('Relationship Between Product Category and Product Visibility.png', dpi = 300);"
      ],
      "metadata": {
        "colab": {
          "base_uri": "https://localhost:8080/",
          "height": 437
        },
        "id": "OeMmq_Hu3JWk",
        "outputId": "23c0306b-244a-466a-a329-b211e2af2a9a"
      },
      "execution_count": 211,
      "outputs": [
        {
          "output_type": "display_data",
          "data": {
            "image/png": "[encoded data removed]",
            "text/plain": [
              "<Figure size 864x432 with 1 Axes>"
            ]
          },
          "metadata": {}
        }
      ]
    },
    {
      "cell_type": "markdown",
      "source": [
        "* In graph we see that most visibility get products  from sections: Breakfast, Seafood, Dairy, Baking Goods, Fruits and Vegetables. Average visibility of all categories is between 0.06 and 0.07."
      ],
      "metadata": {
        "id": "AXowBJ6A5sF4"
      }
    },
    {
      "cell_type": "markdown",
      "source": [
        "* **What relationship is between Product Category and Sales?**"
      ],
      "metadata": {
        "id": "m5CioWUx_BxS"
      }
    },
    {
      "cell_type": "code",
      "source": [
        "#use groupby to sort values in columns Item_Type and Item_Outlet_Sales\n",
        "sales_by_type = sales_predictions.groupby('Item_Type')['Item_Outlet_Sales'].mean().sort_values(ascending=False)"
      ],
      "metadata": {
        "id": "_B3yddXu3JNC"
      },
      "execution_count": 212,
      "outputs": []
    },
    {
      "cell_type": "code",
      "source": [
        "sns.set(rc={\"figure.figsize\":(12,6)})\n",
        "ax = sns.barplot(y=sales_by_type.index, x=sales_by_type.values, color=\"blue\", palette='coolwarm',orient='horizontal')\n",
        "plt.xlabel('Product Sales ($)',fontsize=14)\n",
        "plt.ylabel('Product Category',fontsize=14)\n",
        "plt.title('Relationship Between Product Category and Sales ',fontsize=18);"
      ],
      "metadata": {
        "colab": {
          "base_uri": "https://localhost:8080/",
          "height": 418
        },
        "id": "4wzD_TiW3JCa",
        "outputId": "b3ca29ac-211f-4953-a217-b842ef20b8d1"
      },
      "execution_count": 213,
      "outputs": [
        {
          "output_type": "display_data",
          "data": {
            "image/png": "[encoded data removed]",
            "text/plain": [
              "<Figure size 864x432 with 1 Axes>"
            ]
          },
          "metadata": {}
        }
      ]
    },
    {
      "cell_type": "markdown",
      "source": [
        "* If compare with a plot above, we can tell that there is no direct connection between Product Category, Product Visibility and Sales."
      ],
      "metadata": {
        "id": "8_rjyvbh56T1"
      }
    },
    {
      "cell_type": "markdown",
      "source": [
        "* **Is there any relationship between Product Category, Product Visibility and Number of Products in Different Categories?**"
      ],
      "metadata": {
        "id": "b8-njNCi_IYo"
      }
    },
    {
      "cell_type": "code",
      "source": [
        "#making two plots in one figure\n",
        "fig, axes = plt.subplots(ncols=2, figsize=(18, 5),sharey=True)\n",
        "sns.set_theme(style=\"whitegrid\")\n",
        "sns.set_color_codes(\"pastel\")\n",
        "\n",
        "ax=sns.countplot(y='Item_Type', data=sales_predictions, orient='h',palette='coolwarm', ax=axes[0])\n",
        "ax.set_xlabel('Product Count')\n",
        "ax.set_ylabel('Product Category')\n",
        "ax.set_title('Number of Products in Different Categories',fontsize=18)\n",
        "\n",
        "ax1=sns.barplot(x='Item_Visibility', y='Item_Type',data=sales_predictions, orient='h',palette='coolwarm',ax=axes[1])\n",
        "ax1.set_xlabel('Product Visibility in %')\n",
        "ax1.set_ylabel(' ')\n",
        "ax1.set_title('Relationship Between Product Category and Product Visibility',fontsize=18);"
      ],
      "metadata": {
        "id": "QlvPthjz50rZ"
      },
      "execution_count": null,
      "outputs": []
    },
    {
      "cell_type": "markdown",
      "source": [
        "* We see that there is no connection between number of products in a category and visibility of this product. Two categories that have the highest visibility, have the smallest number of products represented.\n"
      ],
      "metadata": {
        "id": "pAI2vq0g6OyX"
      }
    },
    {
      "cell_type": "code",
      "source": [
        "#plot the product visibility by product category without sorting\n",
        "plt.figure(figsize=(11,7))\n",
        "ax1=sns.barplot(x='Item_Visibility', y='Item_Type',data=sales_predictions, orient='h',palette='coolwarm', \n",
        "                order=[\"Fruits and Vegetables\",\"Snack Foods\",\"Household\",\"Frozen Foods\",\"Dairy\",\n",
        "                       \"Canned\",\"Baking Goods\",\"Health and Hygiene\",\"Meat\",\"Soft Drinks\",\"Breads\",\n",
        "                       \"Hard Drinks\",\"Starchy Foods\",\"Others\",\"Breakfast\",\"Seafood\"])\n",
        "ax1.set_xlabel('Product Visibility in %')\n",
        "ax1.set_ylabel('Product Category')\n",
        "ax1.set_title('Relationship Between Product Category and Product Visibility',fontsize=18)\n",
        "plt.savefig('Relationship Between Product Category and Product Visibility.png', dpi = 300, bbox_inches='tight');"
      ],
      "metadata": {
        "id": "JUBJIFLvQjG_"
      },
      "execution_count": null,
      "outputs": []
    },
    {
      "cell_type": "markdown",
      "source": [
        "**What is a difference in a destribution of products sale by fat content?**"
      ],
      "metadata": {
        "id": "IlVfM-hcwbSk"
      }
    },
    {
      "cell_type": "code",
      "source": [
        "#3#sns.set(rc={\"figure.figsize\":(12,6)})\n",
        "sns.histplot(data=sales_predictions, x='Item_Outlet_Sales', hue='Item_Fat_Content', palette='coolwarm', multiple=\"stack\")\n",
        "plt.title('Distribustion of Products Sales by Fat Content', fontsize=18);"
      ],
      "metadata": {
        "id": "jzaCFLlQtrN1"
      },
      "execution_count": null,
      "outputs": []
    },
    {
      "cell_type": "markdown",
      "source": [
        "* Both categories have exponential sales distribution."
      ],
      "metadata": {
        "id": "zUYX138vwzH_"
      }
    },
    {
      "cell_type": "code",
      "source": [
        "#make a function to transfer values on plots\n",
        "def hundred_k(x,pos):\n",
        "    \"\"\"function for use wth matplotlib FuncFormatter -  formats money in millions\"\"\"\n",
        "    return f\"${x:,.0f}\""
      ],
      "metadata": {
        "id": "5_4RZnDNaQAw"
      },
      "execution_count": null,
      "outputs": []
    },
    {
      "cell_type": "code",
      "source": [
        "import matplotlib as mpl\n",
        "from matplotlib.ticker import FuncFormatter\n",
        "import matplotlib.ticker as ticker\n",
        "price_fmt_100k = FuncFormatter(hundred_k)"
      ],
      "metadata": {
        "id": "Fdi4RHVxTLez"
      },
      "execution_count": null,
      "outputs": []
    },
    {
      "cell_type": "markdown",
      "source": [
        "* **What types of products have the most cumulative sales?**\n",
        "\n",
        "\n"
      ],
      "metadata": {
        "id": "Xmq6SzPIOSdF"
      }
    },
    {
      "cell_type": "code",
      "source": [
        "# make function to convert plot values in easy to read format\n",
        "from matplotlib.ticker import FuncFormatter\n",
        "\n",
        "def hundred_k(x,pos):\n",
        "    \"\"\"function for use wth matplotlib FuncFormatter -  formats money in millions\"\"\"\n",
        "    return f'${x:,.0f}'\n",
        "\n",
        "# Create the formatter\n",
        "price_fmt_mill=FuncFormatter(hundred_k)\n",
        "\n",
        "## Set the axis' major formatter\n",
        "ax.xaxis.set_major_formatter(price_fmt_mill)"
      ],
      "metadata": {
        "id": "6Y7yLZ7dnZwr"
      },
      "execution_count": null,
      "outputs": []
    },
    {
      "cell_type": "code",
      "source": [
        "plt.figure(figsize=(11,7))\n",
        "cum_sum_by_type = sales_predictions.groupby('Item_Type')['Item_Outlet_Sales'].sum().sort_values(ascending=False).reset_index(name = 'Sales By Product Type')\n",
        "ax= sns.barplot(y = cum_sum_by_type['Item_Type'].sort_index(), x = cum_sum_by_type['Sales By Product Type'], orient='h',color='navy');\n",
        "ax.set_title('Total Sales by Product Type Across All Stores', fontsize = 18)\n",
        "ax.set_ylabel('Product Type', fontsize = 14)\n",
        "ax.set_xlabel('Sales', fontsize = 14)\n",
        "ax.xaxis.set_major_formatter(price_fmt_100k)\n",
        "fig.tight_layout()\n",
        "plt.savefig('Total Sales by Product Type Across All Stores.png', dpi = 300);"
      ],
      "metadata": {
        "id": "2vcLg-lpOLwx"
      },
      "execution_count": null,
      "outputs": []
    },
    {
      "cell_type": "markdown",
      "source": [
        "* Top 3 categories are Fruits and Vegetables, Snack Foods and Household. "
      ],
      "metadata": {
        "id": "g5cKT8HJxpl0"
      }
    },
    {
      "cell_type": "code",
      "source": [
        "#make filters to see total sales in different Outlet Types\n",
        "sale_sup1 = sales_predictions[(sales_predictions['Outlet_Type']=='Supermarket Type1')]\n",
        "sale_sup2 = sales_predictions[(sales_predictions['Outlet_Type']=='Supermarket Type2')]\n",
        "sale_sup3 = sales_predictions[(sales_predictions['Outlet_Type']=='Supermarket Type3')]\n",
        "sale_gros = sales_predictions[(sales_predictions['Outlet_Type']=='Grocery Store')]"
      ],
      "metadata": {
        "id": "1r7ouaPRy68h"
      },
      "execution_count": null,
      "outputs": []
    },
    {
      "cell_type": "code",
      "source": [
        "plt.figure(figsize=(10,7))\n",
        "cum_sum_by_type1 = sale_sup1.groupby('Item_Type')['Item_Outlet_Sales'].sum().sort_values(ascending=False).reset_index(name = 'Sales By Product Type')\n",
        "ax= sns.barplot(y = cum_sum_by_type1['Item_Type'].sort_index(), x = cum_sum_by_type1['Sales By Product Type'], orient='h',color='mediumaquamarine')\n",
        "ax.set_title('Total Sales of Products in Supermarket Type1', fontsize = 18)\n",
        "ax.set_ylabel('Product Type', fontsize = 14)\n",
        "ax.set_xlabel('Sales', fontsize = 14)\n",
        "ax.xaxis.set_major_formatter(price_fmt_100k);"
      ],
      "metadata": {
        "id": "cwvcTMCRy61y"
      },
      "execution_count": null,
      "outputs": []
    },
    {
      "cell_type": "code",
      "source": [
        "plt.figure(figsize=(10,7))\n",
        "cum_sum_by_type2 = sale_sup2.groupby('Item_Type')['Item_Outlet_Sales'].sum().sort_values(ascending=False).reset_index(name = 'Sales By Product Type')\n",
        "ax= sns.barplot(y = cum_sum_by_type2['Item_Type'].sort_index(), x = cum_sum_by_type2['Sales By Product Type'], orient='h',color='slateblue');\n",
        "ax.set_title('Total Sales of Products in Supermarket Type3', fontsize = 18)\n",
        "ax.set_ylabel('Product Type', fontsize = 14)\n",
        "ax.set_xlabel('Sales', fontsize = 14)\n",
        "ax.xaxis.set_major_formatter(price_fmt_100k);"
      ],
      "metadata": {
        "id": "DdABzCq5y6v0"
      },
      "execution_count": null,
      "outputs": []
    },
    {
      "cell_type": "code",
      "source": [
        "plt.figure(figsize=(10,7))\n",
        "cum_sum_by_type3 = sale_sup3.groupby('Item_Type')['Item_Outlet_Sales'].sum().sort_values(ascending=False).reset_index(name = 'Sales By Product Type')\n",
        "ax= sns.barplot(y = cum_sum_by_type3['Item_Type'].sort_index(), x = cum_sum_by_type3['Sales By Product Type'], orient='h',color='cornflowerblue');\n",
        "ax.set_title('Total Sales of Products in Supermarket Type3', fontsize = 18)\n",
        "ax.set_ylabel('Product Type', fontsize = 14)\n",
        "ax.set_xlabel('Sales', fontsize = 14)\n",
        "ax.xaxis.set_major_formatter(price_fmt_100k);"
      ],
      "metadata": {
        "id": "d9zXtDNgy6pn"
      },
      "execution_count": null,
      "outputs": []
    },
    {
      "cell_type": "code",
      "source": [
        "plt.figure(figsize=(11,7))\n",
        "cum_sum_by_gros = sale_gros.groupby('Item_Type')['Item_Outlet_Sales'].sum().sort_values(ascending=False).reset_index(name = 'Sales By Product Type')\n",
        "ax= sns.barplot(y = cum_sum_by_gros['Item_Type'].sort_index(), x = cum_sum_by_gros['Sales By Product Type'], orient='h',color='navy');\n",
        "ax.set_title('Total Sales of Products in Grocery Store', fontsize = 18)\n",
        "ax.set_ylabel('Product Type', fontsize = 14)\n",
        "ax.set_xlabel('Sales', fontsize = 14)\n",
        "ax.xaxis.set_major_formatter(price_fmt_100k);"
      ],
      "metadata": {
        "id": "3ImKnlGvy6jX"
      },
      "execution_count": null,
      "outputs": []
    },
    {
      "cell_type": "markdown",
      "source": [
        "**Which category of stores has the highest total sales?**"
      ],
      "metadata": {
        "id": "csQIwrzaztJA"
      }
    },
    {
      "cell_type": "code",
      "source": [
        "plt.figure(figsize=(11,7))\n",
        "cum_sum_by_store = sales_predictions.groupby('Outlet_Identifier')['Item_Outlet_Sales'].sum().sort_values(ascending=False).reset_index(name = 'Sales By Store')\n",
        "ax= sns.barplot(y = cum_sum_by_store['Outlet_Identifier'].sort_index(), x = cum_sum_by_store['Sales By Store'], orient='h');\n",
        "ax.set_title('Total Sales by Store' , fontsize = 18)\n",
        "ax.set_ylabel('Product Type', fontsize = 14)\n",
        "ax.set_xlabel('Sales', fontsize = 14)\n",
        "ax.xaxis.set_major_formatter(price_fmt_100k)\n",
        "plt.savefig('Total Sales by Store.png', dpi = 300);"
      ],
      "metadata": {
        "id": "nRz0z9Bw04rY"
      },
      "execution_count": null,
      "outputs": []
    },
    {
      "cell_type": "markdown",
      "source": [
        "* Store OUT027 has the highest sales among all the stores."
      ],
      "metadata": {
        "id": "9x_ikCslz6nT"
      }
    },
    {
      "cell_type": "code",
      "source": [
        "#make filter for store OUT027\n",
        "best_store = sales_predictions[(sales_predictions['Outlet_Identifier']=='OUT027')]"
      ],
      "metadata": {
        "id": "2yic0OOHznZR"
      },
      "execution_count": null,
      "outputs": []
    },
    {
      "cell_type": "markdown",
      "source": [
        "**How sales in store OUT027 look like?**"
      ],
      "metadata": {
        "id": "AS4DeO750Wra"
      }
    },
    {
      "cell_type": "code",
      "source": [
        "plt.figure(figsize=(10,7))\n",
        "cum_sum_027 = best_store.groupby('Item_Type')['Item_Outlet_Sales'].sum().sort_values(ascending=False).reset_index(name = 'Sales By Product Type')\n",
        "ax= sns.barplot(y = cum_sum_027['Item_Type'].sort_index(), x = cum_sum_027['Sales By Product Type'], orient='h',color='slateblue');\n",
        "ax.set_title('Total Sales by Product Type in Store OUT027', fontsize = 18)\n",
        "ax.set_ylabel('Product Type', fontsize = 14)\n",
        "ax.set_xlabel('Sales', fontsize = 14)\n",
        "ax.xaxis.set_major_formatter(price_fmt_100k);"
      ],
      "metadata": {
        "id": "8H9-fqaaWVU3"
      },
      "execution_count": null,
      "outputs": []
    },
    {
      "cell_type": "markdown",
      "source": [
        "* Distribution of sales in store OUT027 looks mostly the same way as total sales across all stores"
      ],
      "metadata": {
        "id": "XQDGPlRO0mAL"
      }
    },
    {
      "cell_type": "markdown",
      "source": [
        "**Is there any difference in visibility of product categories in store OUT027 comparing to visibility  of product categories  in all stores?**"
      ],
      "metadata": {
        "id": "c7rF4a_91U6M"
      }
    },
    {
      "cell_type": "code",
      "source": [
        "plt.figure(figsize=(11,7))\n",
        "ax1=sns.barplot(x='Item_Visibility', y='Item_Type',data=best_store, orient='h',palette='coolwarm', \n",
        "                order=[\"Fruits and Vegetables\",\"Snack Foods\",\"Household\",\"Frozen Foods\",\"Dairy\",\n",
        "                       \"Canned\",\"Baking Goods\",\"Health and Hygiene\",\"Meat\",\"Soft Drinks\",\"Breads\",\n",
        "                       \"Hard Drinks\",\"Starchy Foods\",\"Others\",\"Breakfast\",\"Seafood\"])\n",
        "ax1.set_xlabel('Product Visibility in %',fontsize=15)\n",
        "ax1.set_ylabel('Product Category',fontsize=15)\n",
        "ax1.set_title('Visibility of Different Product Categories in Store OUT027 ',fontsize=18)\n",
        "fig.tight_layout()\n",
        "plt.savefig('Visibility of Different Product Categories in Store OUT027.png', dpi = 300, bbox_inches='tight');"
      ],
      "metadata": {
        "id": "ZuIHEfc9zjUp"
      },
      "execution_count": null,
      "outputs": []
    },
    {
      "cell_type": "markdown",
      "source": [
        "Yes, most of the product categories in store OUT027 have less visibility than average in all stores."
      ],
      "metadata": {
        "id": "d5g9j9or19IN"
      }
    },
    {
      "cell_type": "markdown",
      "source": [
        "## Preprocessing for Machine Learning"
      ],
      "metadata": {
        "id": "JQuRztXzrhhj"
      }
    },
    {
      "cell_type": "code",
      "source": [
        "from sklearn.preprocessing import StandardScaler, OneHotEncoder\n",
        "from sklearn.impute import SimpleImputer\n",
        "from sklearn.compose import make_column_transformer, make_column_selector\n",
        "from sklearn.pipeline import make_pipeline\n",
        "from sklearn.model_selection import train_test_split\n",
        "from sklearn import set_config\n",
        "set_config(display='diagram')"
      ],
      "metadata": {
        "id": "aYymy3EZ3K8_"
      },
      "execution_count": null,
      "outputs": []
    },
    {
      "cell_type": "code",
      "source": [
        "filename = '/content/drive/MyDrive/Bootcamp/01 Week_ Python/sales_predictions.csv'\n",
        "#check a head of a DataFrame\n",
        "sales_predictions_ml = pd.read_csv(filename)\n",
        "sales_predictions_ml.head(2)"
      ],
      "metadata": {
        "id": "vIOze3CIou-Q"
      },
      "execution_count": null,
      "outputs": []
    },
    {
      "cell_type": "code",
      "source": [
        "#rename inconsistent categories\n",
        "repl_map ={'low fat':'Low Fat','LF':'Low Fat','reg':'Regular'}\n",
        "sales_predictions_ml['Item_Fat_Content'] = sales_predictions['Item_Fat_Content'].replace(repl_map)\n",
        "sales_predictions_ml['Item_Fat_Content'].value_counts()"
      ],
      "metadata": {
        "id": "AhlOR2ZoZ9xH"
      },
      "execution_count": null,
      "outputs": []
    },
    {
      "cell_type": "markdown",
      "source": [
        "**Validation Split**"
      ],
      "metadata": {
        "id": "DjNFwPGerrBD"
      }
    },
    {
      "cell_type": "code",
      "source": [
        "# split the data\n",
        "X = sales_predictions_ml.drop(columns=['Item_Outlet_Sales','Item_Identifier'])\n",
        "y = sales_predictions_ml['Item_Outlet_Sales']\n",
        "X_train, X_test, y_train, y_test = train_test_split(X, y, random_state=42)"
      ],
      "metadata": {
        "id": "nMqv3_8w8k8L"
      },
      "execution_count": null,
      "outputs": []
    },
    {
      "cell_type": "code",
      "source": [
        "sales_predictions_ml.isna().sum() "
      ],
      "metadata": {
        "id": "BmTQ1ylu20Qk"
      },
      "execution_count": null,
      "outputs": []
    },
    {
      "cell_type": "markdown",
      "source": [
        "**Instantiate Column Selectors**"
      ],
      "metadata": {
        "id": "UYSOjvGps5_z"
      }
    },
    {
      "cell_type": "code",
      "source": [
        "# create selectors\n",
        "cat_selector = make_column_selector(dtype_include='object')\n",
        "num_selector = make_column_selector(dtype_include='number')"
      ],
      "metadata": {
        "id": "I1s8Iejp3e9z"
      },
      "execution_count": null,
      "outputs": []
    },
    {
      "cell_type": "markdown",
      "source": [
        "**Instantiate Transformers**"
      ],
      "metadata": {
        "id": "42h1kmi8umQq"
      }
    },
    {
      "cell_type": "code",
      "source": [
        "# create imputers\n",
        "freq_imputer = SimpleImputer(strategy='most_frequent')\n",
        "mean_imputer = SimpleImputer(strategy='mean')\n",
        "# scaler\n",
        "scaler = StandardScaler()\n",
        "# one-hot encoder\n",
        "ohe = OneHotEncoder(handle_unknown='ignore', sparse=False)"
      ],
      "metadata": {
        "id": "Mpcyz6Mj4Y_n"
      },
      "execution_count": null,
      "outputs": []
    },
    {
      "cell_type": "markdown",
      "source": [
        "**Instantiate Pipelines**"
      ],
      "metadata": {
        "id": "cmOPuR9JtOC0"
      }
    },
    {
      "cell_type": "code",
      "source": [
        "# numeric pipeline\n",
        "numeric_pipe = make_pipeline(mean_imputer, scaler)\n",
        "numeric_pipe"
      ],
      "metadata": {
        "id": "PitR0qdAp2C-"
      },
      "execution_count": null,
      "outputs": []
    },
    {
      "cell_type": "code",
      "source": [
        "# categorical pipeline\n",
        "categorical_pipe = make_pipeline(freq_imputer, ohe)\n",
        "categorical_pipe"
      ],
      "metadata": {
        "id": "eTV2SdRiqIRO"
      },
      "execution_count": null,
      "outputs": []
    },
    {
      "cell_type": "markdown",
      "source": [
        "**Instantiate ColumnTransformer**"
      ],
      "metadata": {
        "id": "N-tAHrd3uuSr"
      }
    },
    {
      "cell_type": "code",
      "source": [
        "# tuples for Column Transformer\n",
        "number_tuple = (numeric_pipe, num_selector)\n",
        "category_tuple = (categorical_pipe, cat_selector)\n",
        "# ColumnTransformer\n",
        "preprocessor = make_column_transformer(number_tuple, category_tuple,remainder=\"passthrough\")\n",
        "preprocessor"
      ],
      "metadata": {
        "id": "oP_tWGEcqUqF"
      },
      "execution_count": null,
      "outputs": []
    },
    {
      "cell_type": "markdown",
      "source": [
        "**Transform Data**"
      ],
      "metadata": {
        "id": "E00PEVBsu311"
      }
    },
    {
      "cell_type": "code",
      "source": [
        "# fit on train\n",
        "preprocessor.fit(X_train)"
      ],
      "metadata": {
        "id": "Ej9a4JkJqX-_"
      },
      "execution_count": null,
      "outputs": []
    },
    {
      "cell_type": "code",
      "source": [
        "# transform train and test\n",
        "X_train_processed = preprocessor.transform(X_train)\n",
        "X_test_processed = preprocessor.transform(X_test)"
      ],
      "metadata": {
        "id": "A_FtyGyfqbLs"
      },
      "execution_count": null,
      "outputs": []
    },
    {
      "cell_type": "markdown",
      "source": [
        "**Inspect the Result**"
      ],
      "metadata": {
        "id": "pElx546OvGGr"
      }
    },
    {
      "cell_type": "code",
      "source": [
        "# results in Numpy array\n",
        "X_train_processed"
      ],
      "metadata": {
        "id": "hNrJq4n-qeC5"
      },
      "execution_count": null,
      "outputs": []
    },
    {
      "cell_type": "code",
      "source": [
        "X_test_processed "
      ],
      "metadata": {
        "id": "sGtT9t41qgi8"
      },
      "execution_count": null,
      "outputs": []
    },
    {
      "cell_type": "code",
      "source": [
        "# check for missing values and shape\n",
        "print(np.isnan(X_train_processed).sum().sum(), 'missing values in training data')\n",
        "print(np.isnan(X_test_processed).sum().sum(), 'missing values in testing data')\n",
        "print('\\n')\n",
        "print('All data in X_train_processed are', X_train_processed.dtype)\n",
        "print('All data in X_test_processed are', X_test_processed.dtype)\n",
        "print('\\n')\n",
        "print('shape of data is', X_train_processed.shape)\n",
        "print('\\n')"
      ],
      "metadata": {
        "id": "dFyCVq8oql0k"
      },
      "execution_count": null,
      "outputs": []
    },
    {
      "cell_type": "markdown",
      "source": [
        "## Machine Learning Models"
      ],
      "metadata": {
        "id": "ZUYVKfjsZ9ry"
      }
    },
    {
      "cell_type": "markdown",
      "source": [
        "## Linear Regression"
      ],
      "metadata": {
        "id": "MygvJ6uj_Y9f"
      }
    },
    {
      "cell_type": "code",
      "source": [
        "from sklearn.linear_model import LinearRegression\n",
        "from sklearn.metrics import mean_squared_error, r2_score"
      ],
      "metadata": {
        "id": "54wunk2rhT3l"
      },
      "execution_count": null,
      "outputs": []
    },
    {
      "cell_type": "code",
      "source": [
        "# put ColumnTransformer and linear regression model into a pipeline\n",
        "lin_reg_pipe = make_pipeline(preprocessor, LinearRegression())\n",
        "\n",
        "# fit pipe on the training data\n",
        "lin_reg_pipe.fit(X_train, y_train)"
      ],
      "metadata": {
        "id": "NP7m4nkTcKCK"
      },
      "execution_count": null,
      "outputs": []
    },
    {
      "cell_type": "code",
      "source": [
        "# make a function that takes true and predicted values as arguments\n",
        "def eval_model(true, pred):\n",
        "  \"\"\"Takes true and predicted values (arrays) and prints  RMSE and R2\"\"\"\n",
        "  mse = mean_squared_error(true, pred)\n",
        "  rmse = np.sqrt(mse)\n",
        "  r2 = r2_score(true, pred)\n",
        "  \n",
        "  #print 2 metrics\n",
        "  print(f'\\nRMSE: {rmse:.3f},\\nR^2: {r2:.3f} ')"
      ],
      "metadata": {
        "id": "lsq21J5UdIf6"
      },
      "execution_count": null,
      "outputs": []
    },
    {
      "cell_type": "code",
      "source": [
        "#print results of Linear Regression \n",
        "print('Linear Regression Train Evaluation')\n",
        "eval_model(y_train, lin_reg_pipe.predict(X_train))\n",
        "\n",
        "print('\\nLinear Regression Test Evaluation')\n",
        "eval_model(y_test, lin_reg_pipe.predict(X_test))"
      ],
      "metadata": {
        "id": "8BXukyOedNTi"
      },
      "execution_count": null,
      "outputs": []
    },
    {
      "cell_type": "markdown",
      "source": [
        "## Decision Tree"
      ],
      "metadata": {
        "id": "weEbSpbU_d1z"
      }
    },
    {
      "cell_type": "code",
      "source": [
        "from sklearn.tree import DecisionTreeRegressor"
      ],
      "metadata": {
        "id": "EHM4KdRuACp0"
      },
      "execution_count": null,
      "outputs": []
    },
    {
      "cell_type": "code",
      "source": [
        "# put ColumnTransformer and decision tree regression model into a pipeline\n",
        "dec_tree_pipe = make_pipeline(preprocessor, DecisionTreeRegressor(random_state=42))\n",
        "\n",
        "# fit pipe on the training data\n",
        "dec_tree_pipe.fit(X_train, y_train)\n"
      ],
      "metadata": {
        "id": "4Kjw3xam_CAx"
      },
      "execution_count": null,
      "outputs": []
    },
    {
      "cell_type": "code",
      "source": [
        "#print results of Decision Tree Regression \n",
        "print('Decision Tree Train Evaluation')\n",
        "eval_model(y_train, dec_tree_pipe.predict(X_train))\n",
        "\n",
        "print('\\nDecision Tree Test Evaluation')\n",
        "eval_model(y_test, dec_tree_pipe.predict(X_test))"
      ],
      "metadata": {
        "id": "dbjlwg_li0wH"
      },
      "execution_count": null,
      "outputs": []
    },
    {
      "cell_type": "code",
      "source": [
        "dec_tree = DecisionTreeRegressor(random_state=42)\n",
        "dec_tree.fit(X_train_processed,y_train)"
      ],
      "metadata": {
        "id": "D7Vc2VGEj8bN"
      },
      "execution_count": null,
      "outputs": []
    },
    {
      "cell_type": "code",
      "source": [
        "#check depth of Decision Tree\n",
        "dec_tree.get_depth()"
      ],
      "metadata": {
        "id": "82ctgMCbab4-"
      },
      "execution_count": null,
      "outputs": []
    },
    {
      "cell_type": "code",
      "source": [
        "# list of values to try for max_depth:\n",
        "max_depth_range = list(range(2, 40)) # will try every value between 2 and 40\n",
        "# list to store the score for each value of max_depth:\n",
        "r2 = []\n",
        "for depth in max_depth_range:\n",
        "    dec_tree = DecisionTreeRegressor(max_depth = depth, \n",
        "                             random_state = 42)\n",
        "    dec_tree.fit(X_train_processed, y_train)\n",
        "    score = dec_tree.score(X_test_processed, y_test)\n",
        "    r2.append(score)"
      ],
      "metadata": {
        "id": "AybuiGqcad64"
      },
      "execution_count": null,
      "outputs": []
    },
    {
      "cell_type": "code",
      "source": [
        "plt.plot(max_depth_range, r2)\n",
        "plt.xlabel('max_depth', fontsize=14)\n",
        "plt.ylabel('R2 Scores', fontsize=14);"
      ],
      "metadata": {
        "id": "0Ukj0peNa18u"
      },
      "execution_count": null,
      "outputs": []
    },
    {
      "cell_type": "markdown",
      "source": [
        "* From graph we can see that optimized depth is 5"
      ],
      "metadata": {
        "id": "zJpVelirmxmp"
      }
    },
    {
      "cell_type": "code",
      "source": [
        "# run new pipe with our optimized value for max_depth\n",
        "\n",
        "# put ColumnTransformer and Decision Tree regression model into a pipeline\n",
        "dec_tree_pipe_depth_5 = make_pipeline(preprocessor, DecisionTreeRegressor(random_state=42,max_depth = 5))\n",
        "\n",
        "# fit pipe on the training data\n",
        "dec_tree_pipe_depth_5.fit(X_train, y_train)\n",
        "\n",
        "#print results of Decision Tree Regression with depth=5\n",
        "print('Decision Tree (depth=5) Train Evaluation')\n",
        "eval_model(y_train, dec_tree_pipe_depth_5.predict(X_train))\n",
        "\n",
        "print('\\nDecision Tree (depth=5) Test Evaluation')\n",
        "eval_model(y_test, dec_tree_pipe_depth_5.predict(X_test)) \n"
      ],
      "metadata": {
        "id": "pnvU1lu8a-VD"
      },
      "execution_count": null,
      "outputs": []
    },
    {
      "cell_type": "markdown",
      "source": [
        "* We have better results with our defined depth."
      ],
      "metadata": {
        "id": "btobSoBUnGKt"
      }
    },
    {
      "cell_type": "markdown",
      "source": [
        "## Random Forest"
      ],
      "metadata": {
        "id": "sMDsQZSlXvNb"
      }
    },
    {
      "cell_type": "code",
      "source": [
        "from sklearn.ensemble import RandomForestRegressor"
      ],
      "metadata": {
        "id": "wOkg55lIXtEr"
      },
      "execution_count": null,
      "outputs": []
    },
    {
      "cell_type": "code",
      "source": [
        "# put ColumnTransformer and randon forest regression model into a pipeline\n",
        "rf_pipe = make_pipeline(preprocessor, RandomForestRegressor(random_state=42))\n",
        "\n",
        "# fit pipe on the training data\n",
        "rf_pipe.fit(X_train, y_train)"
      ],
      "metadata": {
        "id": "mJdkucRRlaWB"
      },
      "execution_count": null,
      "outputs": []
    },
    {
      "cell_type": "code",
      "source": [
        "#print results of Random Forest Regression \n",
        "print('Random Forest Train Evaluation')\n",
        "eval_model(y_train, rf_pipe.predict(X_train))\n",
        "\n",
        "print('\\nRandom Forest Test Evaluation')\n",
        "eval_model(y_test, rf_pipe.predict(X_test)) "
      ],
      "metadata": {
        "id": "4hzpgWyTlkk4"
      },
      "execution_count": null,
      "outputs": []
    },
    {
      "cell_type": "code",
      "source": [
        "#create a range of max_depth values\n",
        "depths = range(1, 20, 2)\n",
        "\n",
        "r2_train = []\n",
        "r2_test = []\n",
        "#loop over the values in depths\n",
        "for n in depths:\n",
        "  #Trying depth. Printing depth = n\n",
        "  #fit a new model with max_depth=n\n",
        "  rf_2 = RandomForestRegressor(max_depth=n, random_state=42)\n",
        "\n",
        "  #put the model into a pipeline\n",
        "  rf_2_pipe = make_pipeline(preprocessor, rf_2)\n",
        "  \n",
        "  #fit the model\n",
        "  rf_2_pipe.fit(X_train, y_train)\n",
        "  \n",
        "  #create prediction arrays\n",
        "  train_pred = rf_2_pipe.predict(X_train)\n",
        "  test_pred = rf_2_pipe.predict(X_test)\n",
        "  \n",
        "  #evaluate the model using R2 Score\n",
        "  train_r2score = r2_score(y_train, train_pred)\n",
        "  test_r2score = r2_score(y_test, test_pred)\n",
        "  r2_train.append(train_r2score)\n",
        "  r2_test.append(test_r2score)"
      ],
      "metadata": {
        "id": "Hb7YOXJRUqRI"
      },
      "execution_count": null,
      "outputs": []
    },
    {
      "cell_type": "code",
      "source": [
        "plt.plot(depths, r2_test, label = 'test')\n",
        "plt.plot(depths, r2_train, label = 'train')\n",
        "plt.ylabel('R2 Scores')\n",
        "plt.xlabel('Max Depths')\n",
        "plt.legend();"
      ],
      "metadata": {
        "id": "ATB2ZdAQUqmx"
      },
      "execution_count": null,
      "outputs": []
    },
    {
      "cell_type": "code",
      "source": [
        "# make a ColumnTransformer and randon forest regression model into a pipeline with depth 5\n",
        "rf_pipe_5 = make_pipeline(preprocessor, RandomForestRegressor(random_state=42, max_depth = 5))\n",
        "\n",
        "# fit pipe on the training data\n",
        "rf_pipe_5.fit(X_train, y_train)"
      ],
      "metadata": {
        "id": "02YG2OlgUq0r"
      },
      "execution_count": null,
      "outputs": []
    },
    {
      "cell_type": "code",
      "source": [
        "#print results of Random Forest Regression  with depth=5\n",
        "print('Random Forest Train Evaluation')\n",
        "eval_model(y_train, rf_pipe_5.predict(X_train))\n",
        "\n",
        "print('\\nRandom Forest Test Evaluation')\n",
        "eval_model(y_test, rf_pipe_5.predict(X_test)) "
      ],
      "metadata": {
        "id": "wpPpo7rTnZMO"
      },
      "execution_count": null,
      "outputs": []
    },
    {
      "cell_type": "markdown",
      "source": [
        "* **After using several Maching Learning models we can tell that the best result we get with Random Forest Model (scors for train r^2 = 0.61 and test r^2 = 0.60). However this results are still low to be able to make a good predictions on our product sales.**  "
      ],
      "metadata": {
        "id": "Ob7yM-0uoy2k"
      }
    }
  ]
}